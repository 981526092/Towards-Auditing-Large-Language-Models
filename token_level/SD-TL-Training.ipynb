{
 "cells": [
  {
   "cell_type": "code",
   "execution_count": 1,
   "id": "be6b35f9-9baa-485e-9c13-f4603700d55d",
   "metadata": {
    "ExecuteTime": {
     "end_time": "2023-06-27T16:13:35.219150Z",
     "start_time": "2023-06-27T16:13:30.554209Z"
    }
   },
   "outputs": [],
   "source": [
    "from training import load_data_local,load_data_crowspairs,train_SD_TL"
   ]
  },
  {
   "cell_type": "code",
   "execution_count": 2,
   "outputs": [
    {
     "data": {
      "text/plain": "6581"
     },
     "execution_count": 2,
     "metadata": {},
     "output_type": "execute_result"
    }
   ],
   "source": [
    "model_path = \"distilbert-base-uncased\"\n",
    "bias_type = \"gender\"\n",
    "intersentence_dataset = load_data_local(\"intersentence\")\n",
    "intrasentence_dataset = load_data_local(\"intrasentence\",marked=True)\n",
    "crowspairs_dataset = load_data_crowspairs(marked=True)\n",
    "new_data = intersentence_dataset[bias_type].copy()\n",
    "new_data.extend(intrasentence_dataset[bias_type].copy())\n",
    "new_data.extend(crowspairs_dataset[bias_type].copy())\n",
    "len(new_data)"
   ],
   "metadata": {
    "collapsed": false,
    "ExecuteTime": {
     "end_time": "2023-06-27T16:13:36.644868Z",
     "start_time": "2023-06-27T16:13:35.892045Z"
    }
   }
  },
  {
   "cell_type": "code",
   "execution_count": 3,
   "outputs": [
    {
     "name": "stderr",
     "output_type": "stream",
     "text": [
      "Some weights of the model checkpoint at distilbert-base-uncased were not used when initializing DistilBertForTokenClassification: ['vocab_layer_norm.bias', 'vocab_projector.weight', 'vocab_layer_norm.weight', 'vocab_projector.bias', 'vocab_transform.bias', 'vocab_transform.weight']\n",
      "- This IS expected if you are initializing DistilBertForTokenClassification from the checkpoint of a model trained on another task or with another architecture (e.g. initializing a BertForSequenceClassification model from a BertForPreTraining model).\n",
      "- This IS NOT expected if you are initializing DistilBertForTokenClassification from the checkpoint of a model that you expect to be exactly identical (initializing a BertForSequenceClassification model from a BertForSequenceClassification model).\n",
      "Some weights of DistilBertForTokenClassification were not initialized from the model checkpoint at distilbert-base-uncased and are newly initialized: ['classifier.weight', 'classifier.bias']\n",
      "You should probably TRAIN this model on a down-stream task to be able to use it for predictions and inference.\n"
     ]
    },
    {
     "data": {
      "text/plain": "Map:   0%|          | 0/6581 [00:00<?, ? examples/s]",
      "application/vnd.jupyter.widget-view+json": {
       "version_major": 2,
       "version_minor": 0,
       "model_id": "e6e5258bfd054510889b6f9b42cbcda3"
      }
     },
     "metadata": {},
     "output_type": "display_data"
    },
    {
     "name": "stderr",
     "output_type": "stream",
     "text": [
      "The following columns in the training set don't have a corresponding argument in `DistilBertForTokenClassification.forward` and have been ignored: tokens. If tokens are not expected by `DistilBertForTokenClassification.forward`,  you can safely ignore this message.\n",
      "/Users/zekunwu/Desktop/hallucination_classifier/venv/lib/python3.9/site-packages/transformers/optimization.py:306: FutureWarning: This implementation of AdamW is deprecated and will be removed in a future version. Use the PyTorch implementation torch.optim.AdamW instead, or set `no_deprecation_warning=True` to disable this warning\n",
      "  warnings.warn(\n",
      "***** Running training *****\n",
      "  Num examples = 5264\n",
      "  Num Epochs = 6\n",
      "  Instantaneous batch size per device = 16\n",
      "  Total train batch size (w. parallel, distributed & accumulation) = 16\n",
      "  Gradient Accumulation steps = 1\n",
      "  Total optimization steps = 1974\n",
      "You're using a DistilBertTokenizerFast tokenizer. Please note that with a fast tokenizer, using the `__call__` method is faster than using a method to encode the text followed by a call to the `pad` method to get a padded encoding.\n"
     ]
    },
    {
     "data": {
      "text/plain": "<IPython.core.display.HTML object>",
      "text/html": "\n    <div>\n      \n      <progress value='2' max='1974' style='width:300px; height:20px; vertical-align: middle;'></progress>\n      [   2/1974 : < :, Epoch 0.00/6]\n    </div>\n    <table border=\"1\" class=\"dataframe\">\n  <thead>\n <tr style=\"text-align: left;\">\n      <th>Epoch</th>\n      <th>Training Loss</th>\n      <th>Validation Loss</th>\n    </tr>\n  </thead>\n  <tbody>\n  </tbody>\n</table><p>"
     },
     "metadata": {},
     "output_type": "display_data"
    },
    {
     "name": "stderr",
     "output_type": "stream",
     "text": [
      "The following columns in the evaluation set don't have a corresponding argument in `DistilBertForTokenClassification.forward` and have been ignored: tokens. If tokens are not expected by `DistilBertForTokenClassification.forward`,  you can safely ignore this message.\n",
      "***** Running Evaluation *****\n",
      "  Num examples = 1317\n",
      "  Batch size = 16\n",
      "Saving model checkpoint to specific_best_model/gender/checkpoint-329\n",
      "Configuration saved in specific_best_model/gender/checkpoint-329/config.json\n",
      "Model weights saved in specific_best_model/gender/checkpoint-329/pytorch_model.bin\n",
      "tokenizer config file saved in specific_best_model/gender/checkpoint-329/tokenizer_config.json\n",
      "Special tokens file saved in specific_best_model/gender/checkpoint-329/special_tokens_map.json\n",
      "Deleting older checkpoint [specific_best_model/gender/checkpoint-987] due to args.save_total_limit\n",
      "Deleting older checkpoint [specific_best_model/gender/checkpoint-1974] due to args.save_total_limit\n",
      "The following columns in the evaluation set don't have a corresponding argument in `DistilBertForTokenClassification.forward` and have been ignored: tokens. If tokens are not expected by `DistilBertForTokenClassification.forward`,  you can safely ignore this message.\n",
      "***** Running Evaluation *****\n",
      "  Num examples = 1317\n",
      "  Batch size = 16\n",
      "Saving model checkpoint to specific_best_model/gender/checkpoint-658\n",
      "Configuration saved in specific_best_model/gender/checkpoint-658/config.json\n",
      "Model weights saved in specific_best_model/gender/checkpoint-658/pytorch_model.bin\n",
      "tokenizer config file saved in specific_best_model/gender/checkpoint-658/tokenizer_config.json\n",
      "Special tokens file saved in specific_best_model/gender/checkpoint-658/special_tokens_map.json\n",
      "Deleting older checkpoint [specific_best_model/gender/checkpoint-329] due to args.save_total_limit\n",
      "The following columns in the evaluation set don't have a corresponding argument in `DistilBertForTokenClassification.forward` and have been ignored: tokens. If tokens are not expected by `DistilBertForTokenClassification.forward`,  you can safely ignore this message.\n",
      "***** Running Evaluation *****\n",
      "  Num examples = 1317\n",
      "  Batch size = 16\n",
      "Saving model checkpoint to specific_best_model/gender/checkpoint-987\n",
      "Configuration saved in specific_best_model/gender/checkpoint-987/config.json\n",
      "Model weights saved in specific_best_model/gender/checkpoint-987/pytorch_model.bin\n",
      "tokenizer config file saved in specific_best_model/gender/checkpoint-987/tokenizer_config.json\n",
      "Special tokens file saved in specific_best_model/gender/checkpoint-987/special_tokens_map.json\n",
      "Deleting older checkpoint [specific_best_model/gender/checkpoint-658] due to args.save_total_limit\n",
      "The following columns in the evaluation set don't have a corresponding argument in `DistilBertForTokenClassification.forward` and have been ignored: tokens. If tokens are not expected by `DistilBertForTokenClassification.forward`,  you can safely ignore this message.\n",
      "***** Running Evaluation *****\n",
      "  Num examples = 1317\n",
      "  Batch size = 16\n",
      "Saving model checkpoint to specific_best_model/gender/checkpoint-1316\n",
      "Configuration saved in specific_best_model/gender/checkpoint-1316/config.json\n",
      "Model weights saved in specific_best_model/gender/checkpoint-1316/pytorch_model.bin\n",
      "tokenizer config file saved in specific_best_model/gender/checkpoint-1316/tokenizer_config.json\n",
      "Special tokens file saved in specific_best_model/gender/checkpoint-1316/special_tokens_map.json\n",
      "Deleting older checkpoint [specific_best_model/gender/checkpoint-987] due to args.save_total_limit\n",
      "The following columns in the evaluation set don't have a corresponding argument in `DistilBertForTokenClassification.forward` and have been ignored: tokens. If tokens are not expected by `DistilBertForTokenClassification.forward`,  you can safely ignore this message.\n",
      "***** Running Evaluation *****\n",
      "  Num examples = 1317\n",
      "  Batch size = 16\n",
      "Saving model checkpoint to specific_best_model/gender/checkpoint-1645\n",
      "Configuration saved in specific_best_model/gender/checkpoint-1645/config.json\n",
      "Model weights saved in specific_best_model/gender/checkpoint-1645/pytorch_model.bin\n",
      "tokenizer config file saved in specific_best_model/gender/checkpoint-1645/tokenizer_config.json\n",
      "Special tokens file saved in specific_best_model/gender/checkpoint-1645/special_tokens_map.json\n",
      "Deleting older checkpoint [specific_best_model/gender/checkpoint-1316] due to args.save_total_limit\n",
      "The following columns in the evaluation set don't have a corresponding argument in `DistilBertForTokenClassification.forward` and have been ignored: tokens. If tokens are not expected by `DistilBertForTokenClassification.forward`,  you can safely ignore this message.\n",
      "***** Running Evaluation *****\n",
      "  Num examples = 1317\n",
      "  Batch size = 16\n",
      "Saving model checkpoint to specific_best_model/gender/checkpoint-1974\n",
      "Configuration saved in specific_best_model/gender/checkpoint-1974/config.json\n",
      "Model weights saved in specific_best_model/gender/checkpoint-1974/pytorch_model.bin\n",
      "tokenizer config file saved in specific_best_model/gender/checkpoint-1974/tokenizer_config.json\n",
      "Special tokens file saved in specific_best_model/gender/checkpoint-1974/special_tokens_map.json\n",
      "Deleting older checkpoint [specific_best_model/gender/checkpoint-1645] due to args.save_total_limit\n",
      "\n",
      "\n",
      "Training completed. Do not forget to share your model on huggingface.co/models =)\n",
      "\n",
      "\n",
      "Loading best model from specific_best_model/gender/checkpoint-1974 (score: 0.02317170426249504).\n",
      "The following columns in the evaluation set don't have a corresponding argument in `DistilBertForTokenClassification.forward` and have been ignored: tokens. If tokens are not expected by `DistilBertForTokenClassification.forward`,  you can safely ignore this message.\n",
      "***** Running Evaluation *****\n",
      "  Num examples = 1317\n",
      "  Batch size = 16\n"
     ]
    },
    {
     "data": {
      "text/plain": "<IPython.core.display.HTML object>",
      "text/html": "\n    <div>\n      \n      <progress value='1' max='83' style='width:300px; height:20px; vertical-align: middle;'></progress>\n      [ 1/83 : < :]\n    </div>\n    "
     },
     "metadata": {},
     "output_type": "display_data"
    }
   ],
   "source": [
    "result = train_SD_TL(new_data,model_path,bias_type,batch_size=16,epoch=6,learning_rate=2e-5,output_dir=None)"
   ],
   "metadata": {
    "collapsed": false,
    "ExecuteTime": {
     "end_time": "2023-06-27T16:16:38.447977Z",
     "start_time": "2023-06-27T16:13:37.267573Z"
    }
   }
  },
  {
   "cell_type": "code",
   "execution_count": 5,
   "outputs": [
    {
     "data": {
      "text/plain": "{'eval_loss': 0.02317170426249504,\n 'eval_precision': 0.709641239687651,\n 'eval_recall': 0.6882846752648079,\n 'eval_f1': 0.6969912818808516,\n 'eval_balanced accuracy': 0.6882846752648079,\n 'eval_runtime': 1.2192,\n 'eval_samples_per_second': 1080.239,\n 'eval_steps_per_second': 68.079,\n 'epoch': 6.0}"
     },
     "execution_count": 5,
     "metadata": {},
     "output_type": "execute_result"
    }
   ],
   "source": [
    "result"
   ],
   "metadata": {
    "collapsed": false,
    "ExecuteTime": {
     "end_time": "2023-06-27T16:16:51.656650Z",
     "start_time": "2023-06-27T16:16:51.652776Z"
    }
   }
  },
  {
   "cell_type": "code",
   "execution_count": null,
   "outputs": [],
   "source": [],
   "metadata": {
    "collapsed": false
   }
  }
 ],
 "metadata": {
  "kernelspec": {
   "name": "python3",
   "language": "python",
   "display_name": "Python 3 (ipykernel)"
  },
  "language_info": {
   "codemirror_mode": {
    "name": "ipython",
    "version": 3
   },
   "file_extension": ".py",
   "mimetype": "text/x-python",
   "name": "python",
   "nbconvert_exporter": "python",
   "pygments_lexer": "ipython3",
   "version": "3.7.12"
  }
 },
 "nbformat": 4,
 "nbformat_minor": 5
}
