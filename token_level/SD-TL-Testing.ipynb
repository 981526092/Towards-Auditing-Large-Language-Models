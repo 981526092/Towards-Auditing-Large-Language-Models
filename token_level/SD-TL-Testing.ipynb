{
 "cells": [
  {
   "cell_type": "code",
   "execution_count": 1,
   "metadata": {
    "collapsed": true,
    "ExecuteTime": {
     "end_time": "2023-06-29T13:11:35.106252Z",
     "start_time": "2023-06-29T13:11:31.568580Z"
    }
   },
   "outputs": [],
   "source": [
    "from transformers import pipeline"
   ]
  },
  {
   "cell_type": "code",
   "execution_count": 9,
   "outputs": [
    {
     "data": {
      "text/plain": "[[{'label': 'LABEL_0', 'score': 0.5034633874893188},\n  {'label': 'LABEL_1', 'score': 0.4616181254386902},\n  {'label': 'LABEL_2', 'score': 0.03491852432489395}]]"
     },
     "execution_count": 9,
     "metadata": {},
     "output_type": "execute_result"
    }
   ],
   "source": [
    "model_path = \"/Users/zekunwu/Desktop/bias_detector/training/SD_SL_best_model/religion/checkpoint-288\"\n",
    "SD_TL_pipe = pipeline(\"ner\",model=model_path,tokenizer=model_path,return_all_scores = True)\n",
    "SD_TL_pipe(\"This is a women driven world\")"
   ],
   "metadata": {
    "collapsed": false,
    "ExecuteTime": {
     "end_time": "2023-06-29T13:12:37.426928Z",
     "start_time": "2023-06-29T13:12:36.971909Z"
    }
   }
  },
  {
   "cell_type": "code",
   "execution_count": null,
   "outputs": [],
   "source": [],
   "metadata": {
    "collapsed": false
   }
  }
 ],
 "metadata": {
  "kernelspec": {
   "display_name": "Python 3",
   "language": "python",
   "name": "python3"
  },
  "language_info": {
   "codemirror_mode": {
    "name": "ipython",
    "version": 2
   },
   "file_extension": ".py",
   "mimetype": "text/x-python",
   "name": "python",
   "nbconvert_exporter": "python",
   "pygments_lexer": "ipython2",
   "version": "2.7.6"
  }
 },
 "nbformat": 4,
 "nbformat_minor": 0
}
