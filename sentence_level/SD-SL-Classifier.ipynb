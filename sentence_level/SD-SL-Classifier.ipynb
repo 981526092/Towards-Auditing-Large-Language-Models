{
 "cells": [
  {
   "cell_type": "code",
   "execution_count": 1,
   "metadata": {
    "collapsed": true,
    "ExecuteTime": {
     "end_time": "2023-06-27T15:50:05.469755Z",
     "start_time": "2023-06-27T15:50:01.021065Z"
    }
   },
   "outputs": [],
   "source": [
    "from training import load_data_crowspairs,load_data_local,train_SD_SL"
   ]
  },
  {
   "cell_type": "code",
   "execution_count": 3,
   "outputs": [],
   "source": [
    "model_path = \"distilbert-base-uncased\"\n",
    "bias_type = \"religion\"\n",
    "intersentence_dataset = load_data_local(\"intersentence\")\n",
    "intrasentence_dataset = load_data_local(\"intrasentence\",marked=False)\n",
    "crowspairs_dataset = load_data_crowspairs(marked=False)\n",
    "new_data = intersentence_dataset[bias_type].copy()\n",
    "new_data.extend(intrasentence_dataset[bias_type].copy())\n",
    "new_data.extend(crowspairs_dataset[bias_type].copy())\n",
    "len(new_data)"
   ],
   "metadata": {
    "collapsed": false,
    "ExecuteTime": {
     "end_time": "2023-06-27T15:50:06.136730Z",
     "start_time": "2023-06-27T15:50:05.473373Z"
    }
   }
  },
  {
   "cell_type": "code",
   "execution_count": 5,
   "outputs": [
    {
     "name": "stderr",
     "output_type": "stream",
     "text": [
      "Some weights of the model checkpoint at distilbert-base-uncased were not used when initializing DistilBertForSequenceClassification: ['vocab_projector.bias', 'vocab_layer_norm.weight', 'vocab_transform.weight', 'vocab_layer_norm.bias', 'vocab_transform.bias', 'vocab_projector.weight']\n",
      "- This IS expected if you are initializing DistilBertForSequenceClassification from the checkpoint of a model trained on another task or with another architecture (e.g. initializing a BertForSequenceClassification model from a BertForPreTraining model).\n",
      "- This IS NOT expected if you are initializing DistilBertForSequenceClassification from the checkpoint of a model that you expect to be exactly identical (initializing a BertForSequenceClassification model from a BertForSequenceClassification model).\n",
      "Some weights of DistilBertForSequenceClassification were not initialized from the model checkpoint at distilbert-base-uncased and are newly initialized: ['classifier.weight', 'classifier.bias', 'pre_classifier.bias', 'pre_classifier.weight']\n",
      "You should probably TRAIN this model on a down-stream task to be able to use it for predictions and inference.\n"
     ]
    },
    {
     "data": {
      "text/plain": "Map:   0%|          | 0/2145 [00:00<?, ? examples/s]",
      "application/vnd.jupyter.widget-view+json": {
       "version_major": 2,
       "version_minor": 0,
       "model_id": "df920a3f2ab0415bb496c37b668522a6"
      }
     },
     "metadata": {},
     "output_type": "display_data"
    },
    {
     "data": {
      "text/plain": "Map:   0%|          | 0/2145 [00:00<?, ? examples/s]",
      "application/vnd.jupyter.widget-view+json": {
       "version_major": 2,
       "version_minor": 0,
       "model_id": "ece2880c53c64a0987708b5419ee891c"
      }
     },
     "metadata": {},
     "output_type": "display_data"
    },
    {
     "name": "stderr",
     "output_type": "stream",
     "text": [
      "The following columns in the training set don't have a corresponding argument in `DistilBertForSequenceClassification.forward` and have been ignored: text. If text are not expected by `DistilBertForSequenceClassification.forward`,  you can safely ignore this message.\n",
      "/Users/zekunwu/Desktop/hallucination_classifier/venv/lib/python3.9/site-packages/transformers/optimization.py:306: FutureWarning: This implementation of AdamW is deprecated and will be removed in a future version. Use the PyTorch implementation torch.optim.AdamW instead, or set `no_deprecation_warning=True` to disable this warning\n",
      "  warnings.warn(\n",
      "***** Running training *****\n",
      "  Num examples = 1716\n",
      "  Num Epochs = 6\n",
      "  Instantaneous batch size per device = 16\n",
      "  Total train batch size (w. parallel, distributed & accumulation) = 16\n",
      "  Gradient Accumulation steps = 1\n",
      "  Total optimization steps = 648\n"
     ]
    },
    {
     "data": {
      "text/plain": "<IPython.core.display.HTML object>",
      "text/html": "\n    <div>\n      \n      <progress value='2' max='648' style='width:300px; height:20px; vertical-align: middle;'></progress>\n      [  2/648 : < :, Epoch 0.01/6]\n    </div>\n    <table border=\"1\" class=\"dataframe\">\n  <thead>\n <tr style=\"text-align: left;\">\n      <th>Epoch</th>\n      <th>Training Loss</th>\n      <th>Validation Loss</th>\n    </tr>\n  </thead>\n  <tbody>\n  </tbody>\n</table><p>"
     },
     "metadata": {},
     "output_type": "display_data"
    },
    {
     "name": "stderr",
     "output_type": "stream",
     "text": [
      "The following columns in the evaluation set don't have a corresponding argument in `DistilBertForSequenceClassification.forward` and have been ignored: text. If text are not expected by `DistilBertForSequenceClassification.forward`,  you can safely ignore this message.\n",
      "***** Running Evaluation *****\n",
      "  Num examples = 429\n",
      "  Batch size = 16\n",
      "Saving model checkpoint to specific_best_model/religion/checkpoint-108\n",
      "Configuration saved in specific_best_model/religion/checkpoint-108/config.json\n",
      "Model weights saved in specific_best_model/religion/checkpoint-108/pytorch_model.bin\n",
      "Deleting older checkpoint [specific_best_model/religion/checkpoint-324] due to args.save_total_limit\n",
      "Deleting older checkpoint [specific_best_model/religion/checkpoint-540] due to args.save_total_limit\n",
      "The following columns in the evaluation set don't have a corresponding argument in `DistilBertForSequenceClassification.forward` and have been ignored: text. If text are not expected by `DistilBertForSequenceClassification.forward`,  you can safely ignore this message.\n",
      "***** Running Evaluation *****\n",
      "  Num examples = 429\n",
      "  Batch size = 16\n",
      "Saving model checkpoint to specific_best_model/religion/checkpoint-216\n",
      "Configuration saved in specific_best_model/religion/checkpoint-216/config.json\n",
      "Model weights saved in specific_best_model/religion/checkpoint-216/pytorch_model.bin\n",
      "Deleting older checkpoint [specific_best_model/religion/checkpoint-108] due to args.save_total_limit\n",
      "The following columns in the evaluation set don't have a corresponding argument in `DistilBertForSequenceClassification.forward` and have been ignored: text. If text are not expected by `DistilBertForSequenceClassification.forward`,  you can safely ignore this message.\n",
      "***** Running Evaluation *****\n",
      "  Num examples = 429\n",
      "  Batch size = 16\n",
      "Saving model checkpoint to specific_best_model/religion/checkpoint-324\n",
      "Configuration saved in specific_best_model/religion/checkpoint-324/config.json\n",
      "Model weights saved in specific_best_model/religion/checkpoint-324/pytorch_model.bin\n",
      "Deleting older checkpoint [specific_best_model/religion/checkpoint-216] due to args.save_total_limit\n",
      "The following columns in the evaluation set don't have a corresponding argument in `DistilBertForSequenceClassification.forward` and have been ignored: text. If text are not expected by `DistilBertForSequenceClassification.forward`,  you can safely ignore this message.\n",
      "***** Running Evaluation *****\n",
      "  Num examples = 429\n",
      "  Batch size = 16\n",
      "Saving model checkpoint to specific_best_model/religion/checkpoint-432\n",
      "Configuration saved in specific_best_model/religion/checkpoint-432/config.json\n",
      "Model weights saved in specific_best_model/religion/checkpoint-432/pytorch_model.bin\n",
      "Deleting older checkpoint [specific_best_model/religion/checkpoint-324] due to args.save_total_limit\n",
      "The following columns in the evaluation set don't have a corresponding argument in `DistilBertForSequenceClassification.forward` and have been ignored: text. If text are not expected by `DistilBertForSequenceClassification.forward`,  you can safely ignore this message.\n",
      "***** Running Evaluation *****\n",
      "  Num examples = 429\n",
      "  Batch size = 16\n",
      "Saving model checkpoint to specific_best_model/religion/checkpoint-540\n",
      "Configuration saved in specific_best_model/religion/checkpoint-540/config.json\n",
      "Model weights saved in specific_best_model/religion/checkpoint-540/pytorch_model.bin\n",
      "The following columns in the evaluation set don't have a corresponding argument in `DistilBertForSequenceClassification.forward` and have been ignored: text. If text are not expected by `DistilBertForSequenceClassification.forward`,  you can safely ignore this message.\n",
      "***** Running Evaluation *****\n",
      "  Num examples = 429\n",
      "  Batch size = 16\n",
      "Saving model checkpoint to specific_best_model/religion/checkpoint-648\n",
      "Configuration saved in specific_best_model/religion/checkpoint-648/config.json\n",
      "Model weights saved in specific_best_model/religion/checkpoint-648/pytorch_model.bin\n",
      "Deleting older checkpoint [specific_best_model/religion/checkpoint-540] due to args.save_total_limit\n",
      "\n",
      "\n",
      "Training completed. Do not forget to share your model on huggingface.co/models =)\n",
      "\n",
      "\n",
      "Loading best model from specific_best_model/religion/checkpoint-432 (score: 0.6124688982963562).\n",
      "The following columns in the evaluation set don't have a corresponding argument in `DistilBertForSequenceClassification.forward` and have been ignored: text. If text are not expected by `DistilBertForSequenceClassification.forward`,  you can safely ignore this message.\n",
      "***** Running Evaluation *****\n",
      "  Num examples = 429\n",
      "  Batch size = 16\n"
     ]
    },
    {
     "data": {
      "text/plain": "<IPython.core.display.HTML object>",
      "text/html": "\n    <div>\n      \n      <progress value='1' max='27' style='width:300px; height:20px; vertical-align: middle;'></progress>\n      [ 1/27 : < :]\n    </div>\n    "
     },
     "metadata": {},
     "output_type": "display_data"
    }
   ],
   "source": [
    "result = train_SD_SL(new_data,model_path,bias_type,batch_size=16)"
   ],
   "metadata": {
    "collapsed": false,
    "ExecuteTime": {
     "end_time": "2023-06-27T15:57:38.528868Z",
     "start_time": "2023-06-27T15:50:09.050175Z"
    }
   }
  },
  {
   "cell_type": "code",
   "execution_count": 8,
   "outputs": [
    {
     "data": {
      "text/plain": "{'eval_loss': 0.6124688982963562,\n 'eval_precision': 0.7375239463601533,\n 'eval_recall': 0.72538283707914,\n 'eval_f1': 0.730655395120461,\n 'eval_balanced accuracy': 0.72538283707914,\n 'eval_runtime': 4.8757,\n 'eval_samples_per_second': 87.988,\n 'eval_steps_per_second': 5.538,\n 'epoch': 6.0}"
     },
     "execution_count": 8,
     "metadata": {},
     "output_type": "execute_result"
    }
   ],
   "source": [
    "result"
   ],
   "metadata": {
    "collapsed": false,
    "ExecuteTime": {
     "end_time": "2023-06-27T16:00:50.784320Z",
     "start_time": "2023-06-27T16:00:50.779156Z"
    }
   }
  },
  {
   "cell_type": "code",
   "execution_count": null,
   "outputs": [],
   "source": [],
   "metadata": {
    "collapsed": false
   }
  }
 ],
 "metadata": {
  "kernelspec": {
   "display_name": "Python 3",
   "language": "python",
   "name": "python3"
  },
  "language_info": {
   "codemirror_mode": {
    "name": "ipython",
    "version": 2
   },
   "file_extension": ".py",
   "mimetype": "text/x-python",
   "name": "python",
   "nbconvert_exporter": "python",
   "pygments_lexer": "ipython2",
   "version": "2.7.6"
  }
 },
 "nbformat": 4,
 "nbformat_minor": 0
}
